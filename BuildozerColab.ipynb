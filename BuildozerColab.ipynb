{
  "nbformat": 4,
  "nbformat_minor": 0,
  "metadata": {
    "colab": {
      "name": "Copy of LinuxCoLab.ipynb",
      "provenance": [],
      "collapsed_sections": [],
      "authorship_tag": "ABX9TyNIdD6JuIf9n9QRVJdVNYxo"
    },
    "kernelspec": {
      "name": "python3",
      "display_name": "Python 3"
    },
    "language_info": {
      "name": "python"
    }
  },
  "cells": [
    {
      "cell_type": "markdown",
      "source": [
        "# BuildozerColab\n",
        "### Compile python programs on Google Colaboratory"
      ],
      "metadata": {
        "id": "XcaPS6Yvt9a1"
      }
    },
    {
      "cell_type": "code",
      "metadata": {
        "id": "YcusUCTZHFyh"
      },
      "source": [
        "#@title **Setup Buildozer**\n",
        "#@markdown Just press the play button. The cell will install all the dependencies and requirements needed to run buildozer\n",
        "#@markdown When done, upload your code\n",
        "!pip install buildozer\n",
        "!pip install cython==0.29.19\n",
        "!apt install -y \\\n",
        "    python3-pip \\\n",
        "    build-essential \\\n",
        "    git \\\n",
        "    python3 \\\n",
        "    python3-dev \\\n",
        "    ffmpeg \\\n",
        "    libsdl2-dev \\\n",
        "    libsdl2-image-dev \\\n",
        "    libsdl2-mixer-dev \\\n",
        "    libsdl2-ttf-dev \\\n",
        "    libportmidi-dev \\\n",
        "    libswscale-dev \\\n",
        "    libavformat-dev \\\n",
        "    libavcodec-dev \\\n",
        "    zlib1g-dev\n",
        "!apt install -y \\\n",
        "    libgstreamer1.0 \\\n",
        "    gstreamer1.0-plugins-base \\\n",
        "    gstreamer1.0-plugins-good\n",
        "!apt install build-essential libsqlite3-dev sqlite3 bzip2 libbz2-dev zlib1g-dev libssl-dev openssl libgdbm-dev libgdbm-compat-dev liblzma-dev libreadline-dev libncursesw5-dev libffi-dev uuid-dev libffi6\n",
        "!apt install libffi-dev\n",
        "!pip install kivy\n",
        "!apt install ldd"
      ],
      "execution_count": null,
      "outputs": []
    },
    {
      "cell_type": "code",
      "source": [
        "#@markdown Upload your code then run this cell\n",
        "!buildozer init"
      ],
      "metadata": {
        "id": "1Ctbu_ILn0QM"
      },
      "execution_count": null,
      "outputs": []
    },
    {
      "cell_type": "markdown",
      "source": [
        "Edit the file `buildozer.spec` from the file explorer, then continue to the next cell."
      ],
      "metadata": {
        "id": "ELViFrWioBPm"
      }
    },
    {
      "cell_type": "code",
      "source": [
        "#@markdown This cell will compile your Python program, you may need to accept some licenses.\n",
        "!buildozer -v android debug"
      ],
      "metadata": {
        "id": "K44w0kphoJij"
      },
      "execution_count": null,
      "outputs": []
    }
  ]
}